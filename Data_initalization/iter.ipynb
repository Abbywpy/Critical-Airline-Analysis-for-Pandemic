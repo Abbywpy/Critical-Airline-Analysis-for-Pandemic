{
 "cells": [
  {
   "cell_type": "code",
   "execution_count": 1,
   "id": "39cc82fe",
   "metadata": {},
   "outputs": [],
   "source": [
    "import pandas as pd\n",
    "import numpy as np\n",
    "from tqdm.notebook import tqdm\n",
    "import random\n",
    "import pickle\n",
    "import math "
   ]
  },
  {
   "cell_type": "code",
   "execution_count": 2,
   "id": "24013e13",
   "metadata": {},
   "outputs": [],
   "source": [
    "def drop_one_airport(adj,name):\n",
    "    index_row = adj.columns.get_loc(name)\n",
    "    adj[name]=0\n",
    "    adj.loc[index_row]=0\n",
    "    return adj.to_numpy()\n",
    "    \n",
    "adj = pd.read_csv('./init_flight_capacity.csv')\n",
    "# AAL is the airport to cutted all connection\n",
    "adj_new = drop_one_airport(adj,'HKG')\n",
    "# adj_new.shape"
   ]
  },
  {
   "cell_type": "code",
   "execution_count": 3,
   "id": "b5cb0983",
   "metadata": {},
   "outputs": [],
   "source": [
    "# adj_matrix contain the flight info with passenger num\n",
    "# when cutted, rmb to change this file\n",
    "adj_matrix = np.load(\"init_flight_capacity.npy\")\n",
    "# # adj_matrix = adj_new\n",
    "\n",
    "with open(\"terminal_name.txt\") as f:\n",
    "    airport_id = f.readlines()\n",
    "airport_id = [i.replace(\"\\n\", \"\") for i in airport_id]\n",
    "\n",
    "with open('city_id2airports.pickle', 'rb') as handle:\n",
    "    cityid2airportid = pickle.load(handle)\n",
    "\n",
    "with open('cityid2population.pickle', 'rb') as handle:\n",
    "    cityid2population = pickle.load(handle)\n",
    "    \n",
    "with open('cityid_passengers_from_to.pickle', 'rb') as handle:\n",
    "    cityid_outprob = pickle.load(handle)\n",
    "flights_data = pd.read_csv(\"flights.csv\")\n",
    "# flights_data\n",
    "# adj_matrix.shape"
   ]
  },
  {
   "cell_type": "code",
   "execution_count": 4,
   "id": "991f02ca",
   "metadata": {},
   "outputs": [],
   "source": [
    "# fix nan\n",
    "# cityid2population_e[3442] = 8604203.0\n",
    "# cityid2population_e[86] = 7398000.0\n",
    "# cityid2population_e[29867] = 593754.0\n"
   ]
  },
  {
   "cell_type": "code",
   "execution_count": 5,
   "id": "e6ad4052",
   "metadata": {},
   "outputs": [],
   "source": [
    "# cityid2airportid = {2451:[\"AAR\", \"AAL\"],719:[\"ABI\"] }       \n",
    "# cityid2population = {2451: 237551.0, 719: 693494.0}\n",
    "# cityid_outprob = {2451: {\"AAR_PER\": 0.4, \"AAR_ABI\": 0.3, \"AAL_ABI\":0.3}, 719: {\"ABI_AAR\": 1.0}}\n",
    "\n",
    "beta_city = [0.779 for i in range(len(cityid2airportid))]\n",
    "gamma_city = [0.03 for i in range(len(cityid2airportid))]\n",
    "beta_flight = np.load(\"beta.npy\") # infection rate\n",
    "gamma_flight = np.copy(beta_flight)\n",
    "gamma_flight[gamma_flight != 0] = 0.03 # recovery rate"
   ]
  },
  {
   "cell_type": "code",
   "execution_count": 9,
   "id": "6ed30f60",
   "metadata": {},
   "outputs": [
    {
     "data": {
      "application/vnd.jupyter.widget-view+json": {
       "model_id": "078579ba97e04c65b32429d8907a06eb",
       "version_major": 2,
       "version_minor": 0
      },
      "text/plain": [
       "  0%|          | 0/10 [00:00<?, ?it/s]"
      ]
     },
     "metadata": {},
     "output_type": "display_data"
    },
    {
     "name": "stderr",
     "output_type": "stream",
     "text": [
      "/opt/anaconda3/envs/ns/lib/python3.7/site-packages/ipykernel_launcher.py:36: RuntimeWarning: invalid value encountered in true_divide\n",
      "/opt/anaconda3/envs/ns/lib/python3.7/site-packages/ipykernel_launcher.py:37: RuntimeWarning: invalid value encountered in true_divide\n"
     ]
    },
    {
     "name": "stdout",
     "output_type": "stream",
     "text": [
      "[1, 4.0, 13.0, 44.0, 147.0, 493.0, 1730.0, 5894.0, 19523.0, 61806.0, 186211.0]\n"
     ]
    },
    {
     "data": {
      "text/plain": [
       "array([[ 0.,  7.,  0., ...,  0.,  0.,  0.],\n",
       "       [ 0.,  0.,  0., ...,  0.,  0.,  0.],\n",
       "       [ 0.,  0.,  0., ...,  0.,  0.,  0.],\n",
       "       ...,\n",
       "       [ 0.,  0.,  0., ...,  0.,  0.,  0.],\n",
       "       [ 0.,  0.,  0., ...,  0.,  0., 21.],\n",
       "       [ 0.,  0.,  0., ...,  0., 20.,  0.]])"
      ]
     },
     "execution_count": 9,
     "metadata": {},
     "output_type": "execute_result"
    }
   ],
   "source": [
    "def ppl_same_city_in_plane(airports, probabilities, infection_num_out):\n",
    "    fetch = random.choices(airports, weights=probabilities, k=int(infection_num_out))\n",
    "\n",
    "    infection_num_out_list=[]\n",
    "    for item in airports:\n",
    "        infection_num_out_list.append(fetch.count(item))\n",
    "        \n",
    "    return infection_num_out_list\n",
    "\n",
    "def update_infection(arrive_infection_matrix):\n",
    "    update_dictionary = dict(zip(airport_id, np.sum(arrive_infection_matrix, axis=0)))\n",
    "    return update_dictionary\n",
    "\n",
    "def get_infection_input(infection_dictionary):   \n",
    "    city_infection_input = dict.fromkeys(cityid2airportid.keys(), 0)\n",
    "    for k, v in cityid2airportid.items():\n",
    "        infection_num = []\n",
    "        for i in v:\n",
    "            infection_num.append(infection_dictionary[i])\n",
    "        city_infection_input[k] = sum(infection_num)\n",
    "    return city_infection_input\n",
    "\n",
    "def city_infection(city_infection_input, city_recovery):\n",
    "    city_infection_num = np.array(list(city_infection_input.values()))\n",
    "    city_population = np.array(list(cityid2population.values()))\n",
    "    y_c = [(city_population - city_infection_num)/city_population, city_infection_num/city_population, city_recovery]\n",
    "    \n",
    "    s, i ,r = SIR(y_c, beta_city, gamma_city)\n",
    "    \n",
    "    after_infection = np.ceil(i*city_population)\n",
    "    return r, after_infection\n",
    "\n",
    "\n",
    "def flight_infection(flight_adj, flight_infection_num):\n",
    "\n",
    "    y_f = [np.nan_to_num((flight_adj-flight_infection_num)/flight_adj,nan = 1),\\\n",
    "           np.nan_to_num(flight_infection_num/flight_adj, nan = 0),\\\n",
    "           np.zeros(len(flight_adj))]\n",
    "    \n",
    "    \n",
    "    s, i ,r = SIR(y_f, beta_flight, gamma_flight)\n",
    "    \n",
    "    arrive_infection = np.nan_to_num(np.ceil(i*flight_adj), nan = 0)\n",
    "    arrive_infection[arrive_infection <0 ] = 0\n",
    "    infection_ppl_flight = update_infection(arrive_infection)\n",
    "    \n",
    "    return infection_ppl_flight\n",
    "\n",
    "def get_on_plane(flight_infection_matrix, infection_ppl_in_airport):\n",
    "    for (k, v), num_of_people in zip(cityid_outprob.items(), infection_ppl_in_airport):\n",
    "        people_on_plane = ppl_same_city_in_plane(list(v.keys()), list(v.values()), num_of_people)\n",
    "        flight_infection_matrix = update_flight_infection(flight_infection_matrix, list(v.keys()), people_on_plane)\n",
    "    return flight_infection_matrix\n",
    "    \n",
    "def fly_infection_ppl(city_infection_ppl):\n",
    "    return np.nan_to_num(np.ceil(city_infection_ppl/1),nan = 1)\n",
    "    \n",
    "\n",
    "def SIR(y, beta, gamma):\n",
    "    S, I, R = y \n",
    "    d0 = S - beta*S*I # derivative of S(t)\n",
    "    d1 = I + beta*S*I - gamma*I # derivative of I(t)\n",
    "    d2 = R + gamma*I # derivative of R(t)\n",
    "    \n",
    "    return [d0, d1, d2]\n",
    "\n",
    "def update_flight_infection(flight_infection, flight_com, ppl_num_list):\n",
    "    flight_com = [i.split(\"_\") for i in flight_com]\n",
    "    for (flight_from, flight_to), infection_num in zip(flight_com, ppl_num_list):\n",
    "        flight_from_id = airport_id.index(flight_from)\n",
    "        flight_to_id = airport_id.index(flight_to)\n",
    "        flight_infection[flight_from_id][flight_to_id] += infection_num\n",
    "    return flight_infection\n",
    "    \n",
    "\n",
    "def loop_infection(n_iter, flight_adj):\n",
    "    flight_infection_num = np.zeros((len(flight_adj), len(flight_adj)))\n",
    "    #   flight_infection_num[fromcity][Tocity] = num_of_start_infection\n",
    "    #   fromcity means the order from terminal_name file, AAL -> 0\n",
    "    flight_infection_num[0][1] = 1\n",
    "    \n",
    "    city_recovery = [0.03 for i in range(len(cityid2airportid))]\n",
    "    infection_ppl_list = [1]\n",
    "    infection_ppl_city_list = []\n",
    "    infection_ppl_flight_list = []\n",
    "    \n",
    "    for _ in tqdm(range(n_iter)):\n",
    "        infection_ppl_flight = flight_infection(flight_adj, flight_infection_num)\n",
    "        infection_ppl_flight_list.append(infection_ppl_flight)\n",
    "        \n",
    "        infection_ppl_city = get_infection_input(infection_ppl_flight)\n",
    "        infection_ppl_city_list.append(infection_ppl_city)\n",
    "        \n",
    "        city_recovery, infection_ppl = city_infection(infection_ppl_city, city_recovery)\n",
    "        \n",
    "        flight_infection_num = get_on_plane(np.zeros((len(flight_adj), len(flight_adj))), fly_infection_ppl(infection_ppl))\n",
    "        infection_ppl_list.append(np.sum(infection_ppl))\n",
    "    \n",
    "    return flight_infection_num, infection_ppl_list, infection_ppl_city_list, infection_ppl_flight_list\n",
    "        \n",
    "\n",
    "#  10-> loop iter, adj_matrix could be init or cutted matrix load from beginning\n",
    "matrix, infection_list, infection_ppl_city_list_, infection_ppl_flight_list_ = loop_infection(10, adj_matrix)\n",
    "print(infection_list) \n",
    "# print(infection_ppl_flight_list_)\n",
    "matrix"
   ]
  },
  {
   "cell_type": "code",
   "execution_count": null,
   "id": "43df6389",
   "metadata": {},
   "outputs": [],
   "source": []
  }
 ],
 "metadata": {
  "kernelspec": {
   "display_name": "Python 3 (ipykernel)",
   "language": "python",
   "name": "python3"
  },
  "language_info": {
   "codemirror_mode": {
    "name": "ipython",
    "version": 3
   },
   "file_extension": ".py",
   "mimetype": "text/x-python",
   "name": "python",
   "nbconvert_exporter": "python",
   "pygments_lexer": "ipython3",
   "version": "3.7.0"
  }
 },
 "nbformat": 4,
 "nbformat_minor": 5
}
